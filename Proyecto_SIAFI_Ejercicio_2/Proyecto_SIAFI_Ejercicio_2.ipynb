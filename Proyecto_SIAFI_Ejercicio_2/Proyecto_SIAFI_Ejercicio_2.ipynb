{
  "nbformat": 4,
  "nbformat_minor": 0,
  "metadata": {
    "colab": {
      "provenance": [],
      "authorship_tag": "ABX9TyOcuNmAB4ZTyoVICXfVwu/n",
      "include_colab_link": true
    },
    "kernelspec": {
      "name": "python3",
      "display_name": "Python 3"
    },
    "language_info": {
      "name": "python"
    }
  },
  "cells": [
    {
      "cell_type": "markdown",
      "metadata": {
        "id": "view-in-github",
        "colab_type": "text"
      },
      "source": [
        "<a href=\"https://colab.research.google.com/github/SamuelFI566/SIAFI_Proyecto_Final/blob/main/Proyecto_SIAFI_Ejercicio_2/Proyecto_SIAFI_Ejercicio_2.ipynb\" target=\"_parent\"><img src=\"https://colab.research.google.com/assets/colab-badge.svg\" alt=\"Open In Colab\"/></a>"
      ]
    },
    {
      "cell_type": "code",
      "execution_count": null,
      "metadata": {
        "colab": {
          "base_uri": "https://localhost:8080/"
        },
        "id": "8qwF2VGwYWO3",
        "outputId": "a9d4519e-05c2-40e2-ae35-7f539b2a0212"
      },
      "outputs": [
        {
          "output_type": "stream",
          "name": "stdout",
          "text": [
            "\n",
            "Resultados de las predicciones:\n",
            "Frase: Me siento tan emocionado por el concierto -> Prediccion: 😒\n",
            "Frase: Este es un día realmente triste -> Prediccion: ☀️\n",
            "Frase: Tengo ganas de comer pizza -> Prediccion: 🍔\n",
            "Frase: Estoy tan estresado por el examen -> Prediccion: 😊\n",
            "Frase: Hoy es un día brillante y soleado -> Prediccion: ☀️\n",
            "Frase: Me siento muy feliz con mis amigos -> Prediccion: 😊\n",
            "Frase: Estoy tan cansado de estudiar -> Prediccion: 🍔\n",
            "Frase: Este lugar me da miedo -> Prediccion: ☀️\n",
            "Frase: El clima está perfecto para un paseo -> Prediccion: ☀️\n",
            "Frase: No puedo dejar de pensar en la fiesta -> Prediccion: ☀️\n"
          ]
        }
      ],
      "source": [
        "from sklearn.feature_extraction.text import TfidfVectorizer\n",
        "from sklearn.neighbors import KNeighborsClassifier\n",
        "from sklearn.model_selection import train_test_split\n",
        "from sklearn.metrics import classification_report\n",
        "\n",
        "dataset = [\n",
        "    (\"Estoy muy feliz\", \"😊\"),\n",
        "    (\"No puedo parar de sonreír\", \"😊\"),\n",
        "    (\"Me siento increíblemente feliz hoy\", \"😊\"),\n",
        "    (\"Estoy agradecido por este momento\", \"😊\"),\n",
        "    (\"Este día no podría ser mejor\", \"😊\"),\n",
        "    (\"Qué alegría ver a mis amigos de nuevo\", \"😊\"),\n",
        "    (\"Hoy es un día triste\", \"😢\"),\n",
        "    (\"Todo me hace sentir tan mal\", \"😢\"),\n",
        "    (\"No puedo dejar de llorar, estoy muy triste\", \"😢\"),\n",
        "    (\"Me rompieron el corazón\", \"😢\"),\n",
        "    (\"Extraño tanto a mi familia que duele\", \"😢\"),\n",
        "    (\"Este ha sido el peor día de mi vida\", \"😢\"),\n",
        "    (\"Tengo mucha hambre\", \"🍔\"),\n",
        "    (\"Quiero una hamburguesa con queso\", \"🍔\"),\n",
        "    (\"Estoy soñando con una pizza deliciosa\", \"🍔\"),\n",
        "    (\"Mi estómago no deja de rugir\", \"🍔\"),\n",
        "    (\"¿Cuándo vamos a comer? No puedo esperar\", \"🍔\"),\n",
        "    (\"Anoche no cené, estoy muerto de hambre\", \"🍔\"),\n",
        "    (\"Qué aburrido está esto\", \"😒\"),\n",
        "    (\"Nada interesante está pasando\", \"😒\"),\n",
        "    (\"Me siento totalmente aburrido\", \"😒\"),\n",
        "    (\"Otra reunión aburrida\", \"😒\"),\n",
        "    (\"Este programa de televisión es tan tedioso\", \"😒\"),\n",
        "    (\"No tengo nada que hacer, qué aburrido\", \"😒\"),\n",
        "    (\"Estoy emocionado por la fiesta\", \"🥳\"),\n",
        "    (\"Estoy listo para la mejor fiesta del año\", \"🥳\"),\n",
        "    (\"Hoy celebramos algo increíble\", \"🥳\"),\n",
        "    (\"No puedo esperar a bailar toda la noche\", \"🥳\"),\n",
        "    (\"Es hora de divertirnos con todos los amigos\", \"🥳\"),\n",
        "    (\"La música y las luces me tienen muy emocionado\", \"🥳\"),\n",
        "    (\"Necesito dormir\", \"😴\"),\n",
        "    (\"Dormí muy poco y necesito más horas\", \"😴\"),\n",
        "    (\"Voy a quedarme dormido aquí mismo\", \"😴\"),\n",
        "    (\"Me siento tan cansado que no puedo seguir\", \"😴\"),\n",
        "    (\"Este es el día perfecto para una siesta\", \"😴\"),\n",
        "    (\"Mis ojos no pueden mantenerse abiertos\", \"😴\"),\n",
        "    (\"Qué lindo está el clima\", \"☀️\"),\n",
        "    (\"El sol está brillante y hermoso hoy\", \"☀️\"),\n",
        "    (\"Un día perfecto para salir al parque\", \"☀️\"),\n",
        "    (\"Este clima soleado me pone de buen humor\", \"☀️\"),\n",
        "    (\"Nada como un día soleado para caminar\", \"☀️\"),\n",
        "    (\"Estoy disfrutando del sol en la playa\", \"☀️\"),\n",
        "    (\"Estoy estresado por el trabajo\", \"😫\"),\n",
        "    (\"Tengo demasiadas cosas que hacer\", \"😫\"),\n",
        "    (\"El estrés del trabajo me está agotando\", \"😫\"),\n",
        "    (\"No sé cómo lidiar con tantas responsabilidades\", \"😫\"),\n",
        "    (\"Este proyecto está consumiendo toda mi energía\", \"😫\"),\n",
        "    (\"Siento que ya no puedo más con esta carga\", \"😫\")\n",
        "]\n",
        "\n",
        "\n",
        "# Separar frases y emojis\n",
        "phrases, emojis = zip(*dataset)\n",
        "\n",
        "# Convertir las frases en vectores TF-IDF\n",
        "vectorizer = TfidfVectorizer()\n",
        "X = vectorizer.fit_transform(phrases).toarray()\n",
        "\n",
        "# Dividir los datos en entrenamiento y prueba\n",
        "X_train, X_test, y_train, y_test, phrases_train, phrases_test = train_test_split(\n",
        "    X, emojis, phrases, test_size=0.2, random_state=42\n",
        ")\n",
        "\n",
        "# Crear y entrenar el modelo k-NN\n",
        "k = 3  # Número de vecinos\n",
        "knn = KNeighborsClassifier(n_neighbors=k)\n",
        "knn.fit(X_train, y_train)\n",
        "\n",
        "# Frases nuevas para el modelo\n",
        "sentences = [\n",
        "    \"Me siento tan emocionado por el concierto\",\n",
        "    \"Este es un día realmente triste\",\n",
        "    \"Tengo ganas de comer pizza\",\n",
        "    \"Estoy tan estresado por el examen\",\n",
        "    \"Hoy es un día brillante y soleado\",\n",
        "    \"Me siento muy feliz con mis amigos\",\n",
        "    \"Estoy tan cansado de estudiar\",\n",
        "    \"Este lugar me da miedo\",\n",
        "    \"El clima está perfecto para un paseo\",\n",
        "    \"No puedo dejar de pensar en la fiesta\"\n",
        "]\n",
        "\n",
        "X_trial = vectorizer.transform(sentences).toarray()\n",
        "\n",
        "# Predicciones para las frases nuevas\n",
        "pred = knn.predict(X_trial)\n",
        "print(\"\\nResultados de las predicciones:\")\n",
        "for phrase, emoji in zip(sentences, pred):\n",
        "    print(f\"Frase: {phrase} -> Prediccion: {emoji}\")\n",
        "\n",
        "\n",
        "\n"
      ]
    },
    {
      "cell_type": "markdown",
      "source": [
        "El modelo de clasificación de frases según emojis presenta ciertos problemas en su desempeño, pues de una muestra de 10 frases desconocidas para el modelo, 4 de ellas fueron correctas y 6 incorrectas.\n",
        "\n",
        "Aunque algunas predicciones son acertadas, como aquellas relacionadas con comida o el clima, muchas otras fallan al no capturar correctamente las emociones que refleja la frase. Por ejemplo, frases como \"Este es un día realmente triste\" o \"Estoy tan estresado por el examen\" son clasificadas erróneamente con emojis positivos o neutros, lo cual indica que el modelo tiene dificultades para reconocer las emociones y mas facilidad para reconocer conceptos mas generales como la comida y el clima. Esto se puede deber a que el modelo no ha aprendido correctamente a asociar ciertos términos con las emociones correspondientes debido al tamaño relativamente pequeño del dataset utilizado para el entrenamiento.\n",
        "\n",
        "En conclusion, actualmente el modelo es deficiente para \"interpretar\" y predecir las emociones que reflejan las distintas sentencias, lo cual podria ser mejorado con un tamaño mayor de ejemplos en el dataset de entrenamiento."
      ],
      "metadata": {
        "id": "9EFJXk8f-HRb"
      }
    }
  ]
}